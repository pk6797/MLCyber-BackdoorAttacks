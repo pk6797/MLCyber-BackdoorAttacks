{
 "cells": [
  {
   "cell_type": "code",
   "execution_count": 6,
   "id": "5f7881db",
   "metadata": {},
   "outputs": [],
   "source": [
    "# Import Libraries\n",
    "import h5py\n",
    "import numpy as np\n",
    "import tensorflow as tf\n",
    "from tensorflow import keras\n",
    "import os\n",
    "import matplotlib.pyplot as plt"
   ]
  },
  {
   "cell_type": "code",
   "execution_count": 7,
   "id": "57aa878e",
   "metadata": {},
   "outputs": [],
   "source": [
    "# File Paths\n",
    "clean_test_file = './data/test.h5'\n",
    "clean_valid_file = './data/valid.h5'\n",
    "bad_test_file = './data/bd_test.h5'\n",
    "bad_valid_file = './data/bd_valid.h5'\n",
    "bad_net_file = './data/bd_net.h5'\n",
    "bad_net_weights = './data/bd_weights.h5'"
   ]
  },
  {
   "cell_type": "code",
   "execution_count": 8,
   "id": "16bb8d68",
   "metadata": {},
   "outputs": [
    {
     "name": "stdout",
     "output_type": "stream",
     "text": [
      "clean_test_file exists: True\n",
      "clean_valid_file exists: True\n",
      "bad_test_file exists: True\n",
      "bad_valid_file exists: True\n",
      "bad_net_file exists: True\n",
      "bad_net_weights exists: True\n"
     ]
    }
   ],
   "source": [
    "# Function to check if file exists\n",
    "def check_file_exists(file_path):\n",
    "    return os.path.exists(file_path)\n",
    "\n",
    "# Checking each file\n",
    "print(f\"clean_test_file exists: {check_file_exists(clean_test_file)}\")\n",
    "print(f\"clean_valid_file exists: {check_file_exists(clean_valid_file)}\")\n",
    "print(f\"bad_test_file exists: {check_file_exists(bad_test_file)}\")\n",
    "print(f\"bad_valid_file exists: {check_file_exists(bad_valid_file)}\")\n",
    "print(f\"bad_net_file exists: {check_file_exists(bad_net_file)}\")\n",
    "print(f\"bad_net_weights exists: {check_file_exists(bad_net_weights)}\")"
   ]
  },
  {
   "cell_type": "code",
   "execution_count": 9,
   "id": "d92c4fbd",
   "metadata": {},
   "outputs": [],
   "source": [
    "# Create 'result' directory if not exists\n",
    "result_directory = './result'\n",
    "if not os.path.isdir(result_directory):\n",
    "    os.mkdir(result_directory)"
   ]
  },
  {
   "cell_type": "code",
   "execution_count": 10,
   "id": "0a2cf010",
   "metadata": {},
   "outputs": [],
   "source": [
    "# Data Loader\n",
    "def load_data(filepath):\n",
    "    data = h5py.File(filepath, 'r')\n",
    "    x_data = np.array(data['data'])\n",
    "    y_data = np.array(data['label'])\n",
    "    x_data = x_data.transpose((0, 2, 3, 1))\n",
    "    return x_data, y_data\n",
    "\n",
    "# Data Preprocessor\n",
    "def preprocess_data(x_data):\n",
    "    return x_data / 255\n",
    "\n",
    "# Load Net Model\n",
    "def load_net_model(net_file):\n",
    "    return keras.models.load_model(net_file)\n",
    "\n",
    "# Load Network Weights\n",
    "def load_weights(model, weights_file):\n",
    "    model.load_weights(weights_file)\n",
    "    print(f\"Weights {weights_file} loaded for model {model}\")\n",
    "\n",
    "# Evaluate Backdoored Network Performance\n",
    "def evaluate_origin(bd_model, cl_x_test, cl_y_test, bd_x_test, bd_y_test):\n",
    "    cl_label_p = np.argmax(bd_model.predict(cl_x_test), axis=1)\n",
    "    clean_accuracy = np.mean(np.equal(cl_label_p, cl_y_test)) * 100\n",
    "    print('Clean Classification accuracy:', clean_accuracy)\n",
    "    \n",
    "    bd_label_p = np.argmax(bd_model.predict(bd_x_test), axis=1)\n",
    "    attack_rate = np.mean(np.equal(bd_label_p, bd_y_test)) * 100\n",
    "    print('Attack Success Rate:', attack_rate)\n",
    "    return clean_accuracy"
   ]
  },
  {
   "cell_type": "code",
   "execution_count": 11,
   "id": "f4aa508f",
   "metadata": {},
   "outputs": [],
   "source": [
    "X_clean_valid, y_clean_valid = load_data(clean_valid_file)\n",
    "X_bad_valid, y_bad_valid = load_data(bad_valid_file)"
   ]
  },
  {
   "cell_type": "code",
   "execution_count": 12,
   "id": "058c395f",
   "metadata": {},
   "outputs": [
    {
     "name": "stdout",
     "output_type": "stream",
     "text": [
      "Weights ./data/bd_weights.h5 loaded for model <keras.src.engine.functional.Functional object at 0x293f89450>\n",
      "361/361 [==============================] - 2s 4ms/step\n",
      "Clean Classification accuracy: 98.64899974019225\n",
      "361/361 [==============================] - 2s 5ms/step\n",
      "Attack Success Rate: 100.0\n"
     ]
    }
   ],
   "source": [
    "bd_model = load_net_model(bad_net_file)\n",
    "load_weights(bd_model, bad_net_weights)\n",
    "origin_acc = evaluate_origin(bd_model, X_clean_valid, y_clean_valid, X_bad_valid, y_bad_valid)"
   ]
  },
  {
   "cell_type": "code",
   "execution_count": null,
   "id": "21232155",
   "metadata": {},
   "outputs": [],
   "source": [
    "# Prune Channels\n",
    "#You will design G using the pruning defense that we discussed in class. That is, you will prune the last pooling layer of BadNet B (the layer just before the FC layers) by removing one channel at a time from that layer. Channels should be removed in decreasing order of average activation values over the entire validation set. Every time you prune a channel, you will measure the new validation accuracy of the new pruned badnet. You will stop pruning once the validation accuracy drops atleast X% below the original accuracy. This will be your new network B'\n",
    "\n",
    "bd_model.summary()"
   ]
  },
  {
   "cell_type": "code",
   "execution_count": 14,
   "id": "3b6bceda",
   "metadata": {},
   "outputs": [
    {
     "name": "stdout",
     "output_type": "stream",
     "text": [
      "361/361 [==============================] - 1s 4ms/step\n",
      "Increasing order of average activation values\n",
      "[0.0000000e+00 0.0000000e+00 0.0000000e+00 0.0000000e+00 0.0000000e+00\n",
      " 0.0000000e+00 0.0000000e+00 0.0000000e+00 0.0000000e+00 0.0000000e+00\n",
      " 0.0000000e+00 0.0000000e+00 0.0000000e+00 0.0000000e+00 0.0000000e+00\n",
      " 0.0000000e+00 0.0000000e+00 0.0000000e+00 0.0000000e+00 0.0000000e+00\n",
      " 0.0000000e+00 0.0000000e+00 0.0000000e+00 0.0000000e+00 0.0000000e+00\n",
      " 0.0000000e+00 0.0000000e+00 0.0000000e+00 0.0000000e+00 0.0000000e+00\n",
      " 0.0000000e+00 3.0290761e-03 6.2408661e-03 1.3321567e-02 1.5006668e-02\n",
      " 4.3979678e-02 8.3539166e-02 1.8378231e-01 2.4381575e-01 4.2763174e-01\n",
      " 5.0732869e-01 5.3079778e-01 5.7658589e-01 8.5787809e-01 1.0589780e+00\n",
      " 1.5654891e+00 1.6352932e+00 1.8540378e+00 2.0289583e+00 2.1106055e+00\n",
      " 2.1980379e+00 3.6191158e+00 4.1488924e+00 4.8440871e+00 4.8648086e+00\n",
      " 5.0868411e+00 5.1451392e+00 5.3690352e+00 6.2038708e+00 8.2229834e+00]\n"
     ]
    }
   ],
   "source": [
    "# Copy the backdoored model and find the specific layer to prune\n",
    "prune_model = keras.models.clone_model(bd_model)\n",
    "prune_model.load_weights(bad_net_weights)\n",
    "\n",
    "# Prune the last pooling layer of BadNet B\n",
    "activation_output = prune_model.layers[6].output\n",
    "avg_activation = np.mean(keras.models.Model(inputs=prune_model.input, outputs=activation_output).predict(X_clean_valid), axis=(0, 1, 2))\n",
    "sorted_avg_act_channel = np.argsort(avg_activation)\n",
    "\n",
    "# Show the increasing order of activation values\n",
    "print(\"Increasing order of average activation values\")\n",
    "print(avg_activation[sorted_avg_act_channel])"
   ]
  },
  {
   "cell_type": "code",
   "execution_count": 15,
   "id": "88a9be66",
   "metadata": {},
   "outputs": [
    {
     "name": "stdout",
     "output_type": "stream",
     "text": [
      "The original accuracy is 98.64899974019225\n"
     ]
    }
   ],
   "source": [
    "# Every time you prune a channel, measure the new validation accuracy\n",
    "# Stop pruning once the validation accuracy drops at least X% below the original accuracy\n",
    "\n",
    "print(\"The original accuracy is \" + str(origin_acc))"
   ]
  },
  {
   "cell_type": "code",
   "execution_count": 17,
   "id": "923681f3",
   "metadata": {},
   "outputs": [],
   "source": [
    "X_prune_thresholds = np.array([2, 4, 10, 30])"
   ]
  },
  {
   "cell_type": "code",
   "execution_count": 20,
   "id": "5a8d5850",
   "metadata": {},
   "outputs": [],
   "source": [
    "# Prune Channels in increasing order\n",
    "def prune_channels(prune_model, x_prune, x_clean, y_clean, x_bad, y_bad, save=False):\n",
    "    w_h = prune_model.layers[5].get_weights()[0]\n",
    "    b_h = prune_model.layers[5].get_weights()[1]\n",
    "\n",
    "    acc_ori = np.mean(np.equal(np.argmax(prune_model.predict(x_clean), axis=1), y_clean)) * 100\n",
    "    atk_ori = np.mean(np.equal(np.argmax(prune_model.predict(x_bad), axis=1), y_bad)) * 100\n",
    "\n",
    "    acc_list, atk_list, prune_num_list = [], [], [0] * len(x_prune)\n",
    "\n",
    "    for i, ch in enumerate(sorted_avg_act_channel):\n",
    "        # Set and update w_h, b_h\n",
    "        w_h[:, :, :, ch] = 0\n",
    "        b_h[ch] = 0\n",
    "        prune_model.layers[5].set_weights([w_h, b_h])\n",
    "\n",
    "        # Predict and get the acc of the new network\n",
    "        if abs(avg_activation[ch] - 0) < 1e-7:\n",
    "            acc_tmp, atk_tmp = acc_ori, atk_ori\n",
    "        else:\n",
    "            acc_tmp = np.mean(np.equal(np.argmax(prune_model.predict(x_clean), axis=1), y_clean)) * 100\n",
    "            atk_tmp = np.mean(np.equal(np.argmax(prune_model.predict(x_bad), axis=1), y_bad)) * 100\n",
    "\n",
    "        acc_list.append(acc_tmp)\n",
    "        atk_list.append(atk_tmp)\n",
    "        print(f\"{i + 1} channels pruned, acc = {acc_tmp}, atk = {atk_tmp}, X = {acc_ori - acc_tmp}\")\n",
    "\n",
    "        # Test and save the model if acc is X below the original acc\n",
    "        if save:\n",
    "            for j, threshold in enumerate(x_prune):\n",
    "                if acc_ori - acc_tmp > threshold and prune_num_list[j] == 0:\n",
    "                    prune_num_list[j] = i + 1\n",
    "                    prune_model.save(f'{result_directory}/pruning_channel_model_acc_decrease_by_{threshold}%.h5')\n",
    "                    print(f\"Pruning channel model accuracy decrease by {threshold} saved at prune channels of {prune_num_list[j]}\")\n",
    "\n",
    "        keras.backend.clear_session()\n",
    "\n",
    "    return acc_list, atk_list, prune_num_list\n",
    "\n",
    "# ..."
   ]
  },
  {
   "cell_type": "code",
   "execution_count": 21,
   "id": "d4351937",
   "metadata": {},
   "outputs": [
    {
     "name": "stdout",
     "output_type": "stream",
     "text": [
      "361/361 [==============================] - 2s 5ms/step\n",
      "361/361 [==============================] - 2s 5ms/step\n",
      "1 channels pruned, acc = 92.09318437689443, atk = 99.9913397419243, X = 0.0\n",
      "2 channels pruned, acc = 92.09318437689443, atk = 99.9913397419243, X = 0.0\n",
      "3 channels pruned, acc = 92.09318437689443, atk = 99.9913397419243, X = 0.0\n",
      "4 channels pruned, acc = 92.09318437689443, atk = 99.9913397419243, X = 0.0\n",
      "5 channels pruned, acc = 92.09318437689443, atk = 99.9913397419243, X = 0.0\n",
      "6 channels pruned, acc = 92.09318437689443, atk = 99.9913397419243, X = 0.0\n",
      "7 channels pruned, acc = 92.09318437689443, atk = 99.9913397419243, X = 0.0\n",
      "8 channels pruned, acc = 92.09318437689443, atk = 99.9913397419243, X = 0.0\n",
      "9 channels pruned, acc = 92.09318437689443, atk = 99.9913397419243, X = 0.0\n",
      "10 channels pruned, acc = 92.09318437689443, atk = 99.9913397419243, X = 0.0\n",
      "11 channels pruned, acc = 92.09318437689443, atk = 99.9913397419243, X = 0.0\n",
      "12 channels pruned, acc = 92.09318437689443, atk = 99.9913397419243, X = 0.0\n",
      "13 channels pruned, acc = 92.09318437689443, atk = 99.9913397419243, X = 0.0\n",
      "14 channels pruned, acc = 92.09318437689443, atk = 99.9913397419243, X = 0.0\n",
      "15 channels pruned, acc = 92.09318437689443, atk = 99.9913397419243, X = 0.0\n",
      "16 channels pruned, acc = 92.09318437689443, atk = 99.9913397419243, X = 0.0\n",
      "17 channels pruned, acc = 92.09318437689443, atk = 99.9913397419243, X = 0.0\n",
      "18 channels pruned, acc = 92.09318437689443, atk = 99.9913397419243, X = 0.0\n",
      "19 channels pruned, acc = 92.09318437689443, atk = 99.9913397419243, X = 0.0\n",
      "20 channels pruned, acc = 92.09318437689443, atk = 99.9913397419243, X = 0.0\n",
      "21 channels pruned, acc = 92.09318437689443, atk = 99.9913397419243, X = 0.0\n",
      "22 channels pruned, acc = 92.09318437689443, atk = 99.9913397419243, X = 0.0\n",
      "23 channels pruned, acc = 92.09318437689443, atk = 99.9913397419243, X = 0.0\n",
      "24 channels pruned, acc = 92.09318437689443, atk = 99.9913397419243, X = 0.0\n",
      "25 channels pruned, acc = 92.09318437689443, atk = 99.9913397419243, X = 0.0\n",
      "26 channels pruned, acc = 92.09318437689443, atk = 99.9913397419243, X = 0.0\n",
      "27 channels pruned, acc = 92.09318437689443, atk = 99.9913397419243, X = 0.0\n",
      "28 channels pruned, acc = 92.09318437689443, atk = 99.9913397419243, X = 0.0\n",
      "29 channels pruned, acc = 92.09318437689443, atk = 99.9913397419243, X = 0.0\n",
      "30 channels pruned, acc = 92.09318437689443, atk = 99.9913397419243, X = 0.0\n",
      "31 channels pruned, acc = 92.09318437689443, atk = 99.9913397419243, X = 0.0\n",
      "361/361 [==============================] - 2s 5ms/step\n",
      "361/361 [==============================] - 2s 5ms/step\n",
      "32 channels pruned, acc = 92.09318437689443, atk = 99.9913397419243, X = 0.0\n",
      "361/361 [==============================] - 2s 4ms/step\n",
      "361/361 [==============================] - 2s 4ms/step\n",
      "33 channels pruned, acc = 92.09318437689443, atk = 99.9913397419243, X = 0.0\n",
      "361/361 [==============================] - 2s 5ms/step\n",
      "361/361 [==============================] - 2s 5ms/step\n",
      "34 channels pruned, acc = 92.09318437689443, atk = 99.9913397419243, X = 0.0\n",
      "361/361 [==============================] - 2s 5ms/step\n",
      "361/361 [==============================] - 2s 5ms/step\n",
      "35 channels pruned, acc = 92.09318437689443, atk = 99.9913397419243, X = 0.0\n",
      "361/361 [==============================] - 2s 4ms/step\n",
      "361/361 [==============================] - 2s 4ms/step\n",
      "36 channels pruned, acc = 92.09318437689443, atk = 99.9913397419243, X = 0.0\n",
      "361/361 [==============================] - 2s 5ms/step\n",
      "361/361 [==============================] - 2s 4ms/step\n",
      "37 channels pruned, acc = 92.09318437689443, atk = 99.9913397419243, X = 0.0\n",
      "361/361 [==============================] - 2s 5ms/step\n",
      "361/361 [==============================] - 2s 5ms/step\n",
      "38 channels pruned, acc = 92.09318437689443, atk = 99.9913397419243, X = 0.0\n",
      "361/361 [==============================] - 2s 5ms/step\n",
      "361/361 [==============================] - 2s 5ms/step\n",
      "39 channels pruned, acc = 92.09318437689443, atk = 99.9913397419243, X = 0.0\n",
      "361/361 [==============================] - 2s 5ms/step\n",
      "361/361 [==============================] - 2s 4ms/step\n",
      "40 channels pruned, acc = 92.09318437689443, atk = 99.9913397419243, X = 0.0\n",
      "361/361 [==============================] - 2s 5ms/step\n",
      "361/361 [==============================] - 2s 5ms/step\n",
      "41 channels pruned, acc = 92.09318437689443, atk = 99.9913397419243, X = 0.0\n",
      "361/361 [==============================] - 2s 5ms/step\n",
      "361/361 [==============================] - 2s 4ms/step\n",
      "42 channels pruned, acc = 92.09318437689443, atk = 99.9913397419243, X = 0.0\n",
      "361/361 [==============================] - 2s 5ms/step\n",
      "361/361 [==============================] - 2s 5ms/step\n",
      "43 channels pruned, acc = 92.09318437689443, atk = 99.9913397419243, X = 0.0\n",
      "361/361 [==============================] - 2s 4ms/step\n",
      "361/361 [==============================] - 2s 5ms/step\n",
      "44 channels pruned, acc = 92.09318437689443, atk = 99.9913397419243, X = 0.0\n",
      "361/361 [==============================] - 2s 4ms/step\n",
      "361/361 [==============================] - 2s 4ms/step\n",
      "45 channels pruned, acc = 92.09318437689443, atk = 99.9913397419243, X = 0.0\n",
      "361/361 [==============================] - 2s 5ms/step\n",
      "361/361 [==============================] - 2s 5ms/step\n",
      "46 channels pruned, acc = 92.09318437689443, atk = 99.9913397419243, X = 0.0\n",
      "361/361 [==============================] - 2s 5ms/step\n",
      "361/361 [==============================] - 2s 5ms/step\n",
      "47 channels pruned, acc = 92.09318437689443, atk = 99.9913397419243, X = 0.0\n",
      "361/361 [==============================] - 2s 5ms/step\n",
      "361/361 [==============================] - 2s 5ms/step\n",
      "48 channels pruned, acc = 92.09318437689443, atk = 99.9913397419243, X = 0.0\n",
      "361/361 [==============================] - 2s 5ms/step\n",
      "361/361 [==============================] - 2s 5ms/step\n",
      "49 channels pruned, acc = 91.49562656967177, atk = 99.9913397419243, X = 0.5975578072226568\n",
      "361/361 [==============================] - 2s 5ms/step\n",
      "361/361 [==============================] - 2s 5ms/step\n",
      "50 channels pruned, acc = 91.01931237550879, atk = 99.98267948384861, X = 1.073872001385638\n",
      "361/361 [==============================] - 2s 5ms/step\n",
      "361/361 [==============================] - 2s 5ms/step\n",
      "51 channels pruned, acc = 89.17467740538669, atk = 80.73958603966398, X = 2.918506971507739\n",
      "WARNING:tensorflow:Compiled the loaded model, but the compiled metrics have yet to be built. `model.compile_metrics` will be empty until you train or evaluate the model.\n",
      "Pruning channel model accuracy decrease by 2 saved at prune channels of 51\n"
     ]
    },
    {
     "name": "stderr",
     "output_type": "stream",
     "text": [
      "/Users/tharunk/anaconda3/lib/python3.11/site-packages/keras/src/engine/training.py:3079: UserWarning: You are saving your model as an HDF5 file via `model.save()`. This file format is considered legacy. We recommend using instead the native Keras format, e.g. `model.save('my_model.keras')`.\n",
      "  saving_api.save_model(\n"
     ]
    },
    {
     "name": "stdout",
     "output_type": "stream",
     "text": [
      "361/361 [==============================] - 2s 5ms/step\n",
      "361/361 [==============================] - 2s 5ms/step\n",
      "52 channels pruned, acc = 84.43751623798389, atk = 77.015675067117, X = 7.655668138910542\n",
      "WARNING:tensorflow:Compiled the loaded model, but the compiled metrics have yet to be built. `model.compile_metrics` will be empty until you train or evaluate the model.\n",
      "Pruning channel model accuracy decrease by 4 saved at prune channels of 52\n",
      "361/361 [==============================] - 2s 5ms/step\n",
      "361/361 [==============================] - 2s 5ms/step\n",
      "53 channels pruned, acc = 76.48739932449988, atk = 35.71490430414826, X = 15.605785052394552\n",
      "WARNING:tensorflow:Compiled the loaded model, but the compiled metrics have yet to be built. `model.compile_metrics` will be empty until you train or evaluate the model.\n",
      "Pruning channel model accuracy decrease by 10 saved at prune channels of 53\n",
      "361/361 [==============================] - 2s 5ms/step\n",
      "361/361 [==============================] - 2s 5ms/step\n",
      "54 channels pruned, acc = 54.8627349095003, atk = 6.954187234779596, X = 37.23044946739413\n",
      "WARNING:tensorflow:Compiled the loaded model, but the compiled metrics have yet to be built. `model.compile_metrics` will be empty until you train or evaluate the model.\n",
      "Pruning channel model accuracy decrease by 30 saved at prune channels of 54\n",
      "361/361 [==============================] - 2s 5ms/step\n",
      "361/361 [==============================] - 2s 5ms/step\n",
      "55 channels pruned, acc = 27.08928726076037, atk = 0.4243526457088421, X = 65.00389711613406\n",
      "361/361 [==============================] - 2s 5ms/step\n",
      "361/361 [==============================] - 2s 5ms/step\n",
      "56 channels pruned, acc = 13.87373343725643, atk = 0.0, X = 78.219450939638\n",
      "361/361 [==============================] - 2s 5ms/step\n",
      "361/361 [==============================] - 2s 5ms/step\n",
      "57 channels pruned, acc = 7.101411622066338, atk = 0.0, X = 84.99177275482809\n",
      "361/361 [==============================] - 2s 5ms/step\n",
      "361/361 [==============================] - 2s 5ms/step\n",
      "58 channels pruned, acc = 1.5501861955486274, atk = 0.0, X = 90.5429981813458\n",
      "361/361 [==============================] - 2s 5ms/step\n",
      "361/361 [==============================] - 2s 5ms/step\n",
      "59 channels pruned, acc = 0.7188014202823244, atk = 0.0, X = 91.37438295661211\n",
      "361/361 [==============================] - 2s 5ms/step\n",
      "361/361 [==============================] - 2s 5ms/step\n",
      "60 channels pruned, acc = 0.0779423226812159, atk = 0.0, X = 92.01524205421322\n"
     ]
    }
   ],
   "source": [
    "acc_prune, atk_prune, prune_num_prune = prune_channels(prune_model, X_prune_thresholds, X_clean_valid, y_clean_valid, X_bad_valid, y_bad_valid, save=True)"
   ]
  },
  {
   "cell_type": "code",
   "execution_count": 25,
   "id": "53cb7e75",
   "metadata": {},
   "outputs": [],
   "source": [
    "# Good Network\n",
    "class GoodNetwork(keras.Model):\n",
    "    def __init__(self, original_model, pruned_model):\n",
    "        super(GoodNetwork, self).__init__()\n",
    "        self.original_model = original_model\n",
    "        self.pruned_model = pruned_model\n",
    "\n",
    "    def predict(self, x):\n",
    "        yhat_original = np.argmax(self.original_model.predict(x), axis=1)\n",
    "        yhat_pruned = np.argmax(self.pruned_model.predict(x), axis=1)\n",
    "        yhat_original[np.where(yhat_original != yhat_pruned)] = 1283\n",
    "        return yhat_original\n",
    "\n",
    "# "
   ]
  },
  {
   "cell_type": "code",
   "execution_count": 26,
   "id": "cb39c867",
   "metadata": {},
   "outputs": [
    {
     "name": "stdout",
     "output_type": "stream",
     "text": [
      "WARNING:tensorflow:No training configuration found in the save file, so the model was *not* compiled. Compile it manually.\n",
      "WARNING:tensorflow:No training configuration found in the save file, so the model was *not* compiled. Compile it manually.\n",
      "WARNING:tensorflow:No training configuration found in the save file, so the model was *not* compiled. Compile it manually.\n",
      "WARNING:tensorflow:No training configuration found in the save file, so the model was *not* compiled. Compile it manually.\n"
     ]
    }
   ],
   "source": [
    "# Combine Network B and Network B' to create the repaired network G\n",
    "repaired_model_2p = GoodNetwork(bd_model, load_net_model(f'{result_directory}/pruning_channel_model_acc_decrease_by_2%.h5'))\n",
    "repaired_model_4p = GoodNetwork(bd_model, load_net_model(f'{result_directory}/pruning_channel_model_acc_decrease_by_4%.h5'))\n",
    "repaired_model_10p = GoodNetwork(bd_model, load_net_model(f'{result_directory}/pruning_channel_model_acc_decrease_by_10%.h5'))\n",
    "repaired_model_30p = GoodNetwork(bd_model, load_net_model(f'{result_directory}/pruning_channel_model_acc_decrease_by_30%.h5'))"
   ]
  },
  {
   "cell_type": "code",
   "execution_count": 27,
   "id": "519108f7",
   "metadata": {},
   "outputs": [
    {
     "name": "stdout",
     "output_type": "stream",
     "text": [
      "Backdoored network on the test dataset\n",
      "401/401 [==============================] - 2s 5ms/step\n",
      "Clean Classification accuracy: 98.62042088854248\n",
      "401/401 [==============================] - 2s 5ms/step\n",
      "Attack Success Rate: 100.0\n",
      "Repaired network, channels pruned with a 2% drop of accuracy, on the test dataset\n",
      "401/401 [==============================] - 2s 5ms/step\n",
      "401/401 [==============================] - 2s 5ms/step\n",
      "Clean Classification accuracy: 89.68043647700702\n",
      "401/401 [==============================] - 2s 5ms/step\n",
      "401/401 [==============================] - 2s 5ms/step\n",
      "Attack Success Rate: 80.6469212782541\n",
      "Repaired network, channels pruned with a 4% drop of accuracy, on the test dataset\n",
      "401/401 [==============================] - 2s 5ms/step\n",
      "401/401 [==============================] - 2s 5ms/step\n",
      "Clean Classification accuracy: 84.3335931410756\n",
      "401/401 [==============================] - 2s 5ms/step\n",
      "401/401 [==============================] - 2s 5ms/step\n",
      "Attack Success Rate: 77.20966484801247\n",
      "Repaired network, channels pruned with a 10% drop of accuracy, on the test dataset\n",
      "401/401 [==============================] - 2s 5ms/step\n",
      "401/401 [==============================] - 2s 5ms/step\n",
      "Clean Classification accuracy: 76.16523772408418\n",
      "401/401 [==============================] - 2s 5ms/step\n",
      "401/401 [==============================] - 2s 5ms/step\n",
      "Attack Success Rate: 36.26656274356976\n",
      "Repaired network, channels pruned with a 30% drop of accuracy, on the test dataset\n",
      "401/401 [==============================] - 2s 5ms/step\n",
      "401/401 [==============================] - 2s 5ms/step\n",
      "Clean Classification accuracy: 54.67653936087296\n",
      "401/401 [==============================] - 2s 5ms/step\n",
      "401/401 [==============================] - 2s 4ms/step\n",
      "Attack Success Rate: 6.96024941543258\n"
     ]
    },
    {
     "data": {
      "text/plain": [
       "54.67653936087296"
      ]
     },
     "execution_count": 27,
     "metadata": {},
     "output_type": "execute_result"
    }
   ],
   "source": [
    "# Evaluation Function for Good Network\n",
    "def evaluate_repaired(model, x_clean_test, y_clean_test, x_bad_test, y_bad_test):\n",
    "    cl_label_p = model.predict(x_clean_test)\n",
    "    clean_accuracy = np.mean(np.equal(cl_label_p, y_clean_test)) * 100\n",
    "    print('Clean Classification accuracy:', clean_accuracy)\n",
    "\n",
    "    bd_label_p = model.predict(x_bad_test)\n",
    "    attack_rate = np.mean(np.equal(bd_label_p, y_bad_test)) * 100\n",
    "    print('Attack Success Rate:', attack_rate)\n",
    "    return clean_accuracy\n",
    "\n",
    "# Load Test Data\n",
    "X_clean_test, y_clean_test = load_data(clean_test_file)\n",
    "X_bad_test, y_bad_test = load_data(bad_test_file)\n",
    "\n",
    "# Compare the performance among original backdoored network and repaired networks\n",
    "print(\"Backdoored network on the test dataset\")\n",
    "evaluate_origin(bd_model, X_clean_test, y_clean_test, X_bad_test, y_bad_test)\n",
    "\n",
    "print(\"Repaired network, channels pruned with a 2% drop of accuracy, on the test dataset\")\n",
    "evaluate_repaired(repaired_model_2p, X_clean_test, y_clean_test, X_bad_test, y_bad_test)\n",
    "\n",
    "print(\"Repaired network, channels pruned with a 4% drop of accuracy, on the test dataset\")\n",
    "evaluate_repaired(repaired_model_4p, X_clean_test, y_clean_test, X_bad_test, y_bad_test)\n",
    "\n",
    "print(\"Repaired network, channels pruned with a 10% drop of accuracy, on the test dataset\")\n",
    "evaluate_repaired(repaired_model_10p, X_clean_test, y_clean_test, X_bad_test, y_bad_test)\n",
    "\n",
    "print(\"Repaired network, channels pruned with a 30% drop of accuracy, on the test dataset\")\n",
    "evaluate_repaired(repaired_model_30p, X_clean_test, y_clean_test, X_bad_test, y_bad_test)"
   ]
  },
  {
   "cell_type": "code",
   "execution_count": 28,
   "id": "65cba0d0",
   "metadata": {},
   "outputs": [
    {
     "name": "stdout",
     "output_type": "stream",
     "text": [
      "401/401 [==============================] - 2s 5ms/step\n",
      "401/401 [==============================] - 2s 5ms/step\n",
      "1 channels pruned, acc = 98.62042088854248, atk = 100.0, X = 0.0\n",
      "2 channels pruned, acc = 98.62042088854248, atk = 100.0, X = 0.0\n",
      "3 channels pruned, acc = 98.62042088854248, atk = 100.0, X = 0.0\n",
      "4 channels pruned, acc = 98.62042088854248, atk = 100.0, X = 0.0\n",
      "5 channels pruned, acc = 98.62042088854248, atk = 100.0, X = 0.0\n",
      "6 channels pruned, acc = 98.62042088854248, atk = 100.0, X = 0.0\n",
      "7 channels pruned, acc = 98.62042088854248, atk = 100.0, X = 0.0\n",
      "8 channels pruned, acc = 98.62042088854248, atk = 100.0, X = 0.0\n",
      "9 channels pruned, acc = 98.62042088854248, atk = 100.0, X = 0.0\n",
      "10 channels pruned, acc = 98.62042088854248, atk = 100.0, X = 0.0\n",
      "11 channels pruned, acc = 98.62042088854248, atk = 100.0, X = 0.0\n",
      "12 channels pruned, acc = 98.62042088854248, atk = 100.0, X = 0.0\n",
      "13 channels pruned, acc = 98.62042088854248, atk = 100.0, X = 0.0\n",
      "14 channels pruned, acc = 98.62042088854248, atk = 100.0, X = 0.0\n",
      "15 channels pruned, acc = 98.62042088854248, atk = 100.0, X = 0.0\n",
      "16 channels pruned, acc = 98.62042088854248, atk = 100.0, X = 0.0\n",
      "17 channels pruned, acc = 98.62042088854248, atk = 100.0, X = 0.0\n",
      "18 channels pruned, acc = 98.62042088854248, atk = 100.0, X = 0.0\n",
      "19 channels pruned, acc = 98.62042088854248, atk = 100.0, X = 0.0\n",
      "20 channels pruned, acc = 98.62042088854248, atk = 100.0, X = 0.0\n",
      "21 channels pruned, acc = 98.62042088854248, atk = 100.0, X = 0.0\n",
      "22 channels pruned, acc = 98.62042088854248, atk = 100.0, X = 0.0\n",
      "23 channels pruned, acc = 98.62042088854248, atk = 100.0, X = 0.0\n",
      "24 channels pruned, acc = 98.62042088854248, atk = 100.0, X = 0.0\n",
      "25 channels pruned, acc = 98.62042088854248, atk = 100.0, X = 0.0\n",
      "26 channels pruned, acc = 98.62042088854248, atk = 100.0, X = 0.0\n",
      "27 channels pruned, acc = 98.62042088854248, atk = 100.0, X = 0.0\n",
      "28 channels pruned, acc = 98.62042088854248, atk = 100.0, X = 0.0\n",
      "29 channels pruned, acc = 98.62042088854248, atk = 100.0, X = 0.0\n",
      "30 channels pruned, acc = 98.62042088854248, atk = 100.0, X = 0.0\n",
      "31 channels pruned, acc = 98.62042088854248, atk = 100.0, X = 0.0\n",
      "401/401 [==============================] - 2s 5ms/step\n",
      "401/401 [==============================] - 2s 5ms/step\n",
      "32 channels pruned, acc = 98.62042088854248, atk = 100.0, X = 0.0\n",
      "401/401 [==============================] - 2s 5ms/step\n",
      "401/401 [==============================] - 2s 5ms/step\n",
      "33 channels pruned, acc = 98.62042088854248, atk = 100.0, X = 0.0\n",
      "401/401 [==============================] - 2s 5ms/step\n",
      "401/401 [==============================] - 2s 5ms/step\n",
      "34 channels pruned, acc = 98.61262665627436, atk = 100.0, X = 0.007794232268125256\n",
      "401/401 [==============================] - 2s 5ms/step\n",
      "401/401 [==============================] - 2s 5ms/step\n",
      "35 channels pruned, acc = 98.61262665627436, atk = 100.0, X = 0.007794232268125256\n",
      "401/401 [==============================] - 2s 4ms/step\n",
      "401/401 [==============================] - 2s 5ms/step\n",
      "36 channels pruned, acc = 98.60483242400623, atk = 100.0, X = 0.015588464536250513\n",
      "401/401 [==============================] - 2s 5ms/step\n",
      "401/401 [==============================] - 2s 5ms/step\n",
      "37 channels pruned, acc = 98.60483242400623, atk = 100.0, X = 0.015588464536250513\n",
      "401/401 [==============================] - 2s 5ms/step\n",
      "401/401 [==============================] - 2s 5ms/step\n",
      "38 channels pruned, acc = 98.58924395947, atk = 100.0, X = 0.031176929072486814\n",
      "401/401 [==============================] - 2s 5ms/step\n",
      "401/401 [==============================] - 2s 5ms/step\n",
      "39 channels pruned, acc = 98.55027279812938, atk = 100.0, X = 0.07014809041309888\n",
      "401/401 [==============================] - 2s 5ms/step\n",
      "401/401 [==============================] - 2s 5ms/step\n",
      "40 channels pruned, acc = 98.53468433359313, atk = 100.0, X = 0.0857365549493494\n",
      "401/401 [==============================] - 2s 5ms/step\n",
      "401/401 [==============================] - 2s 5ms/step\n",
      "41 channels pruned, acc = 98.52689010132501, atk = 100.0, X = 0.09353078721747465\n",
      "401/401 [==============================] - 2s 5ms/step\n",
      "401/401 [==============================] - 2s 5ms/step\n",
      "42 channels pruned, acc = 98.269680436477, atk = 100.0, X = 0.3507404520654802\n",
      "401/401 [==============================] - 2s 5ms/step\n",
      "401/401 [==============================] - 2s 5ms/step\n",
      "43 channels pruned, acc = 97.88776305533905, atk = 100.0, X = 0.732657833203433\n",
      "401/401 [==============================] - 2s 5ms/step\n",
      "401/401 [==============================] - 2s 5ms/step\n",
      "44 channels pruned, acc = 97.66173031956352, atk = 100.0, X = 0.958690568978966\n",
      "401/401 [==============================] - 2s 5ms/step\n",
      "401/401 [==============================] - 2s 5ms/step\n",
      "45 channels pruned, acc = 95.90023382696803, atk = 100.0, X = 2.7201870615744497\n",
      "401/401 [==============================] - 2s 5ms/step\n",
      "401/401 [==============================] - 2s 5ms/step\n",
      "46 channels pruned, acc = 95.5261106780982, atk = 99.97661730319564, X = 3.0943102104442772\n",
      "401/401 [==============================] - 2s 5ms/step\n",
      "401/401 [==============================] - 2s 5ms/step\n",
      "47 channels pruned, acc = 95.0584567420109, atk = 99.98441153546376, X = 3.5619641465315794\n",
      "401/401 [==============================] - 2s 5ms/step\n",
      "401/401 [==============================] - 2s 5ms/step\n",
      "48 channels pruned, acc = 92.29150428682775, atk = 99.98441153546376, X = 6.328916601714738\n",
      "401/401 [==============================] - 2s 5ms/step\n",
      "401/401 [==============================] - 2s 5ms/step\n",
      "49 channels pruned, acc = 91.8082618862042, atk = 99.98441153546376, X = 6.8121590023382765\n",
      "401/401 [==============================] - 2s 5ms/step\n",
      "401/401 [==============================] - 2s 5ms/step\n",
      "50 channels pruned, acc = 91.30943102104443, atk = 99.97661730319564, X = 7.310989867498051\n",
      "401/401 [==============================] - 2s 5ms/step\n",
      "401/401 [==============================] - 2s 5ms/step\n",
      "51 channels pruned, acc = 89.84411535463757, atk = 80.6469212782541, X = 8.776305533904917\n",
      "401/401 [==============================] - 2s 5ms/step\n",
      "401/401 [==============================] - 2s 5ms/step\n",
      "52 channels pruned, acc = 84.54403741231489, atk = 77.20966484801247, X = 14.07638347622759\n",
      "401/401 [==============================] - 2s 5ms/step\n",
      "401/401 [==============================] - 2s 5ms/step\n",
      "53 channels pruned, acc = 76.30553390491036, atk = 36.26656274356976, X = 22.31488698363212\n",
      "401/401 [==============================] - 2s 5ms/step\n",
      "401/401 [==============================] - 2s 5ms/step\n",
      "54 channels pruned, acc = 54.762275915822286, atk = 6.96024941543258, X = 43.8581449727202\n",
      "401/401 [==============================] - 2s 5ms/step\n",
      "401/401 [==============================] - 2s 5ms/step\n",
      "55 channels pruned, acc = 27.10054559625877, atk = 0.4208885424785659, X = 71.51987529228371\n",
      "401/401 [==============================] - 2s 5ms/step\n",
      "401/401 [==============================] - 2s 5ms/step\n",
      "56 channels pruned, acc = 13.756819953234606, atk = 0.0, X = 84.86360093530787\n",
      "401/401 [==============================] - 2s 5ms/step\n",
      "401/401 [==============================] - 2s 5ms/step\n",
      "57 channels pruned, acc = 6.570537802026501, atk = 0.0, X = 92.04988308651598\n",
      "401/401 [==============================] - 2s 5ms/step\n",
      "401/401 [==============================] - 2s 5ms/step\n",
      "58 channels pruned, acc = 1.5198752922837102, atk = 0.0, X = 97.10054559625877\n",
      "401/401 [==============================] - 2s 5ms/step\n",
      "401/401 [==============================] - 2s 5ms/step\n",
      "59 channels pruned, acc = 0.646921278254092, atk = 0.0, X = 97.97349961028839\n",
      "401/401 [==============================] - 2s 5ms/step\n",
      "401/401 [==============================] - 2s 5ms/step\n",
      "60 channels pruned, acc = 0.0779423226812159, atk = 0.0, X = 98.54247856586127\n"
     ]
    },
    {
     "data": {
      "image/png": "[encoded data removed]",
      "text/plain": [
       "<Figure size 640x480 with 1 Axes>"
      ]
     },
     "metadata": {},
     "output_type": "display_data"
    }
   ],
   "source": [
    "# Plot the accuracy on clean test data and the attack success rate on backdoored test data\n",
    "prune_model_test = keras.models.clone_model(bd_model)\n",
    "prune_model_test.load_weights(bad_net_weights)\n",
    "acc_test, atk_test, prune_num_test = prune_channels(prune_model_test, X_prune_thresholds, X_clean_test, y_clean_test, X_bad_test, y_bad_test, save=False)\n"
   ]
  },
  {
   "cell_type": "code",
   "execution_count": 29,
   "id": "8299c33a",
   "metadata": {},
   "outputs": [
    {
     "data": {
      "image/png": "[encoded data removed]",
      "text/plain": [
       "<Figure size 640x480 with 1 Axes>"
      ]
     },
     "metadata": {},
     "output_type": "display_data"
    }
   ],
   "source": [
    "# The x-axis is actually from 1 to 60 and divided by 60\n",
    "x_axis = np.arange(1, 61) / 60\n",
    "plt.title(\"Accuracy (on clean test data) & Attack success rate (on backdoored test data)\")\n",
    "plt.xlabel(\"Channels pruned\")\n",
    "plt.ylabel(\"Rate\")\n",
    "plt.plot(x_axis, acc_test)\n",
    "plt.plot(x_axis, atk_test)\n",
    "plt.legend(['Accuracy (on clean test)', 'Attack success rate (on backdoored test)'])\n",
    "plt.show()"
   ]
  }
 ],
 "metadata": {
  "kernelspec": {
   "display_name": "Python 3 (ipykernel)",
   "language": "python",
   "name": "python3"
  },
  "language_info": {
   "codemirror_mode": {
    "name": "ipython",
    "version": 3
   },
   "file_extension": ".py",
   "mimetype": "text/x-python",
   "name": "python",
   "nbconvert_exporter": "python",
   "pygments_lexer": "ipython3",
   "version": "3.11.5"
  }
 },
 "nbformat": 4,
 "nbformat_minor": 5
}
